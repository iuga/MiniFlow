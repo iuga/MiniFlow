{
 "cells": [
  {
   "cell_type": "markdown",
   "metadata": {},
   "source": [
    "# Boston Housing Example\n",
    "The Boston Housing data set was analyzed by Harrison and Rubinfeld (1978) who wanted to find out whether clean air had an influence on house prices. We will use this data set in this example and in most of the following examples to illustrate the presented methodology. You can find the dataset here: https://archive.ics.uci.edu/ml/datasets/Housing."
   ]
  },
  {
   "cell_type": "code",
   "execution_count": 1,
   "metadata": {},
   "outputs": [],
   "source": [
    "import numpy as np\n",
    "from sklearn.datasets import load_boston\n",
    "from miniflow.layers import Input, Linear, Sigmoid, Variable, ReLU\n",
    "from miniflow.topology import Model\n",
    "from sklearn.model_selection import train_test_split"
   ]
  },
  {
   "cell_type": "markdown",
   "metadata": {},
   "source": [
    "The dataset concerns housing values in suburbs of Boston. The features are:\n",
    "1. CRIM: per capita crime rate by town \n",
    "2. ZN: proportion of residential land zoned for lots over 25,000 sq.ft. \n",
    "3. INDUS: proportion of non-retail business acres per town \n",
    "4. CHAS: Charles River dummy variable (= 1 if tract bounds river; 0 otherwise) \n",
    "5. NOX: nitric oxides concentration (parts per 10 million) \n",
    "6. RM: average number of rooms per dwelling \n",
    "7. AGE: proportion of owner-occupied units built prior to 1940 \n",
    "8. DIS: weighted distances to five Boston employment centres \n",
    "9. RAD: index of accessibility to radial highways \n",
    "10. TAX: full-value property-tax rate per `$10,000`\n",
    "11. PTRATIO: pupil-teacher ratio by town \n",
    "12. B: 1000(Bk - 0.63)^2 where Bk is the proportion of blacks by town \n",
    "13. LSTAT: % lower status of the population \n",
    "14. MEDV: Median value of owner-occupied homes in $1000's\n",
    "\n",
    "## Pre-processing"
   ]
  },
  {
   "cell_type": "code",
   "execution_count": 2,
   "metadata": {},
   "outputs": [
    {
     "name": "stdout",
     "output_type": "stream",
     "text": [
      "Shapes X: (506, 13) y:(506,)\n",
      "[  6.32000000e-03   1.80000000e+01   2.31000000e+00   0.00000000e+00\n",
      "   5.38000000e-01   6.57500000e+00   6.52000000e+01   4.09000000e+00\n",
      "   1.00000000e+00   2.96000000e+02   1.53000000e+01   3.96900000e+02\n",
      "   4.98000000e+00] = 24.0\n"
     ]
    }
   ],
   "source": [
    "# Load dataset\n",
    "data = load_boston()\n",
    "X = data['data']\n",
    "y = data['target']\n",
    "print(\"Shapes X: {} y:{}\".format(X.shape, y.shape))\n",
    "print(X[0], '=', y[0])"
   ]
  },
  {
   "cell_type": "code",
   "execution_count": 3,
   "metadata": {},
   "outputs": [
    {
     "name": "stdout",
     "output_type": "stream",
     "text": [
      "[-0.41771335  0.28482986 -1.2879095  -0.27259857 -0.14421743  0.41367189\n",
      " -0.12001342  0.1402136  -0.98284286 -0.66660821 -1.45900038  0.44105193\n",
      " -1.0755623 ]\n"
     ]
    }
   ],
   "source": [
    "# Let's start normalizing the data\n",
    "X = (X - np.mean(X, axis=0)) / np.std(X, axis=0)\n",
    "print(X[0])"
   ]
  },
  {
   "cell_type": "code",
   "execution_count": 4,
   "metadata": {},
   "outputs": [
    {
     "name": "stdout",
     "output_type": "stream",
     "text": [
      "Shapes X_train: (404, 13) y_train:(404,) X_test:(102, 13) y_test:(102,)\n"
     ]
    }
   ],
   "source": [
    "# Finally, split between train/test sets:\n",
    "X_train, X_test, y_train, y_test = train_test_split(X, y, test_size=0.20)\n",
    "print(\"Shapes X_train: {} y_train:{} X_test:{} y_test:{}\".format(X_train.shape, y_train.shape, X_test.shape, y_test.shape))"
   ]
  },
  {
   "cell_type": "markdown",
   "metadata": {},
   "source": [
    "## Simple Network Topology"
   ]
  },
  {
   "cell_type": "code",
   "execution_count": 11,
   "metadata": {},
   "outputs": [],
   "source": [
    "# Configuration\n",
    "n_features = X_train.shape[1]\n",
    "n_hidden = 10\n",
    "\n",
    "# Layers Initialization Weights:\n",
    "W1 = np.random.normal(0.1, 0.01, (n_features, n_hidden))\n",
    "b1 = np.zeros(n_hidden)\n",
    "W2 = np.random.normal(0.1, 0.01, (n_hidden, 1))\n",
    "b2 = np.zeros(1)\n",
    "\n",
    "# Neural network inputs (X and y):\n",
    "Xi = Input(name=\"X_input\")\n",
    "yi = Input(name=\"y_input\")\n",
    "\n",
    "# Neural Network trainable parameter:\n",
    "W1i, b1i = Variable(name=\"W1\"), Variable(name=\"b1\")\n",
    "W2i, b2i = Variable(name=\"W2\"), Variable(name=\"b2\")\n",
    "\n",
    "# Topology\n",
    "Xi = Input()\n",
    "x = Linear(W1i, b1i)(Xi)\n",
    "x = Sigmoid()(x)\n",
    "x = Linear(W2i, b2i)(x)"
   ]
  },
  {
   "cell_type": "markdown",
   "metadata": {},
   "source": [
    "## Training"
   ]
  },
  {
   "cell_type": "code",
   "execution_count": 12,
   "metadata": {},
   "outputs": [
    {
     "name": "stdout",
     "output_type": "stream",
     "text": [
      "Epoch 1: \n",
      "Train Loss: 109.318 - Test Loss: 68.192\n",
      "Epoch 2: \n",
      "Train Loss: 27.299 - Test Loss: 31.387\n",
      "Epoch 3: \n",
      "Train Loss: 34.001 - Test Loss: 30.629\n",
      "Epoch 4: \n",
      "Train Loss: 31.407 - Test Loss: 27.767\n",
      "Epoch 5: \n",
      "Train Loss: 23.073 - Test Loss: 25.663\n",
      "Epoch 6: \n",
      "Train Loss: 22.435 - Test Loss: 24.328\n",
      "Epoch 7: \n",
      "Train Loss: 38.914 - Test Loss: 34.393\n",
      "Epoch 8: \n",
      "Train Loss: 19.632 - Test Loss: 23.941\n",
      "Epoch 9: \n",
      "Train Loss: 15.834 - Test Loss: 22.202\n",
      "Epoch 10: \n",
      "Train Loss: 18.107 - Test Loss: 20.672\n",
      "Epoch 11: \n",
      "Train Loss: 14.828 - Test Loss: 17.380\n",
      "Epoch 12: \n",
      "Train Loss: 16.438 - Test Loss: 16.707\n",
      "Epoch 13: \n",
      "Train Loss: 15.805 - Test Loss: 18.300\n",
      "Epoch 14: \n",
      "Train Loss: 15.246 - Test Loss: 17.650\n",
      "Epoch 15: \n",
      "Train Loss: 14.029 - Test Loss: 17.392\n",
      "Epoch 16: \n",
      "Train Loss: 16.909 - Test Loss: 19.177\n",
      "Epoch 17: \n",
      "Train Loss: 13.615 - Test Loss: 16.989\n",
      "Epoch 18: \n",
      "Train Loss: 13.182 - Test Loss: 17.067\n",
      "Epoch 19: \n",
      "Train Loss: 17.314 - Test Loss: 18.535\n",
      "Epoch 20: \n",
      "Train Loss: 10.715 - Test Loss: 14.043\n",
      "Epoch 21: \n",
      "Train Loss: 10.508 - Test Loss: 14.954\n",
      "Epoch 22: \n",
      "Train Loss: 12.617 - Test Loss: 14.707\n",
      "Epoch 23: \n",
      "Train Loss: 14.052 - Test Loss: 15.087\n",
      "Epoch 24: \n",
      "Train Loss: 9.095 - Test Loss: 14.258\n",
      "Epoch 25: \n",
      "Train Loss: 11.580 - Test Loss: 15.315\n",
      "Epoch 26: \n",
      "Train Loss: 10.620 - Test Loss: 13.995\n",
      "Epoch 27: \n",
      "Train Loss: 16.449 - Test Loss: 15.761\n",
      "Epoch 28: \n",
      "Train Loss: 12.620 - Test Loss: 14.269\n",
      "Epoch 29: \n",
      "Train Loss: 11.726 - Test Loss: 13.585\n",
      "Epoch 30: \n",
      "Train Loss: 10.919 - Test Loss: 13.678\n",
      "Epoch 31: \n",
      "Train Loss: 11.823 - Test Loss: 13.974\n",
      "Epoch 32: \n",
      "Train Loss: 10.915 - Test Loss: 13.353\n",
      "Epoch 33: \n",
      "Train Loss: 10.267 - Test Loss: 13.570\n",
      "Epoch 34: \n",
      "Train Loss: 9.710 - Test Loss: 12.848\n",
      "Epoch 35: \n",
      "Train Loss: 8.800 - Test Loss: 12.828\n",
      "Epoch 36: \n",
      "Train Loss: 10.292 - Test Loss: 15.180\n",
      "Epoch 37: \n",
      "Train Loss: 10.216 - Test Loss: 14.835\n",
      "Epoch 38: \n",
      "Train Loss: 9.844 - Test Loss: 13.035\n",
      "Epoch 39: \n",
      "Train Loss: 7.779 - Test Loss: 12.754\n",
      "Epoch 40: \n",
      "Train Loss: 9.055 - Test Loss: 13.310\n",
      "Epoch 41: \n",
      "Train Loss: 9.457 - Test Loss: 12.224\n",
      "Epoch 42: \n",
      "Train Loss: 9.788 - Test Loss: 12.388\n",
      "Epoch 43: \n",
      "Train Loss: 8.565 - Test Loss: 13.924\n",
      "Epoch 44: \n",
      "Train Loss: 7.538 - Test Loss: 11.817\n",
      "Epoch 45: \n",
      "Train Loss: 8.261 - Test Loss: 11.605\n",
      "Epoch 46: \n",
      "Train Loss: 8.784 - Test Loss: 12.291\n",
      "Epoch 47: \n",
      "Train Loss: 8.588 - Test Loss: 12.258\n",
      "Epoch 48: \n",
      "Train Loss: 7.854 - Test Loss: 11.696\n",
      "Epoch 49: \n",
      "Train Loss: 5.703 - Test Loss: 11.061\n",
      "Epoch 50: \n",
      "Train Loss: 6.946 - Test Loss: 12.096\n",
      "Epoch 51: \n",
      "Train Loss: 7.362 - Test Loss: 12.096\n",
      "Epoch 52: \n",
      "Train Loss: 7.152 - Test Loss: 12.438\n",
      "Epoch 53: \n",
      "Train Loss: 5.336 - Test Loss: 11.001\n",
      "Epoch 54: \n",
      "Train Loss: 6.519 - Test Loss: 11.209\n",
      "Epoch 55: \n",
      "Train Loss: 6.043 - Test Loss: 11.301\n",
      "Epoch 56: \n",
      "Train Loss: 5.641 - Test Loss: 11.022\n",
      "Epoch 57: \n",
      "Train Loss: 5.691 - Test Loss: 10.601\n",
      "Epoch 58: \n",
      "Train Loss: 6.295 - Test Loss: 10.597\n",
      "Epoch 59: \n",
      "Train Loss: 6.381 - Test Loss: 11.418\n",
      "Epoch 60: \n",
      "Train Loss: 7.007 - Test Loss: 10.652\n",
      "Epoch 61: \n",
      "Train Loss: 5.973 - Test Loss: 11.207\n",
      "Epoch 62: \n",
      "Train Loss: 5.953 - Test Loss: 11.841\n",
      "Epoch 63: \n",
      "Train Loss: 8.117 - Test Loss: 11.910\n",
      "Epoch 64: \n",
      "Train Loss: 5.967 - Test Loss: 11.543\n",
      "Epoch 65: \n",
      "Train Loss: 6.058 - Test Loss: 11.514\n",
      "Epoch 66: \n",
      "Train Loss: 6.424 - Test Loss: 11.816\n",
      "Epoch 67: \n",
      "Train Loss: 5.571 - Test Loss: 12.485\n",
      "Epoch 68: \n",
      "Train Loss: 7.032 - Test Loss: 12.897\n",
      "Epoch 69: \n",
      "Train Loss: 5.942 - Test Loss: 13.115\n",
      "Epoch 70: \n",
      "Train Loss: 6.684 - Test Loss: 12.447\n",
      "Epoch 71: \n",
      "Train Loss: 6.256 - Test Loss: 11.927\n",
      "Epoch 72: \n",
      "Train Loss: 6.693 - Test Loss: 12.126\n",
      "Epoch 73: \n",
      "Train Loss: 5.423 - Test Loss: 11.249\n",
      "Epoch 74: \n",
      "Train Loss: 5.705 - Test Loss: 11.063\n",
      "Epoch 75: \n",
      "Train Loss: 4.646 - Test Loss: 10.351\n",
      "Epoch 76: \n",
      "Train Loss: 6.014 - Test Loss: 10.573\n",
      "Epoch 77: \n",
      "Train Loss: 6.367 - Test Loss: 11.832\n",
      "Epoch 78: \n",
      "Train Loss: 4.830 - Test Loss: 11.708\n",
      "Epoch 79: \n",
      "Train Loss: 5.492 - Test Loss: 11.416\n",
      "Epoch 80: \n",
      "Train Loss: 4.878 - Test Loss: 10.915\n",
      "Epoch 81: \n",
      "Train Loss: 5.843 - Test Loss: 11.819\n",
      "Epoch 82: \n",
      "Train Loss: 5.299 - Test Loss: 11.621\n",
      "Epoch 83: \n",
      "Train Loss: 4.577 - Test Loss: 10.954\n",
      "Epoch 84: \n",
      "Train Loss: 5.046 - Test Loss: 11.346\n",
      "Epoch 85: \n",
      "Train Loss: 6.001 - Test Loss: 12.034\n",
      "Epoch 86: \n",
      "Train Loss: 5.878 - Test Loss: 13.146\n",
      "Epoch 87: \n",
      "Train Loss: 5.145 - Test Loss: 12.050\n",
      "Epoch 88: \n",
      "Train Loss: 3.967 - Test Loss: 11.205\n",
      "Epoch 89: \n",
      "Train Loss: 4.592 - Test Loss: 11.314\n",
      "Epoch 90: \n",
      "Train Loss: 5.451 - Test Loss: 12.077\n",
      "Epoch 91: \n",
      "Train Loss: 6.543 - Test Loss: 11.560\n",
      "Epoch 92: \n",
      "Train Loss: 6.396 - Test Loss: 12.276\n",
      "Epoch 93: \n",
      "Train Loss: 4.824 - Test Loss: 12.842\n",
      "Epoch 94: \n",
      "Train Loss: 5.255 - Test Loss: 12.707\n",
      "Epoch 95: \n",
      "Train Loss: 4.382 - Test Loss: 12.358\n",
      "Epoch 96: \n",
      "Train Loss: 4.657 - Test Loss: 11.788\n",
      "Epoch 97: \n",
      "Train Loss: 4.484 - Test Loss: 10.852\n",
      "Epoch 98: \n",
      "Train Loss: 4.623 - Test Loss: 10.526\n",
      "Epoch 99: \n",
      "Train Loss: 4.754 - Test Loss: 10.959\n",
      "Epoch 100: \n",
      "Train Loss: 5.015 - Test Loss: 11.831\n"
     ]
    }
   ],
   "source": [
    "# Define the base Model object\n",
    "model = Model(inputs=[Xi], outputs=[x])\n",
    "# Compile the model setting the loss funciton: Mean Square Error\n",
    "model.compile(loss='mse')\n",
    "# Train the model getting the history data:\n",
    "history = model.train(X_train, y_train, X_test=X_test, y_test=y_test, epochs=100, batch_size=32, feed_dict={\n",
    "    W1i: W1,\n",
    "    b1i: b1,\n",
    "    W2i: W2,\n",
    "    b2i: b2\n",
    "})"
   ]
  },
  {
   "cell_type": "code",
   "execution_count": 13,
   "metadata": {},
   "outputs": [
    {
     "data": {
      "image/png": "[encoded data removed]",
      "text/plain": [
       "<matplotlib.figure.Figure at 0x112d21ef0>"
      ]
     },
     "metadata": {},
     "output_type": "display_data"
    }
   ],
   "source": [
    "#\n",
    "# Plot the training results\n",
    "#\n",
    "import matplotlib.pyplot as plt\n",
    "plt.figure()\n",
    "plt.title(\"Training vs Testing Performance\")\n",
    "plt.xlabel(\"Iteration\")\n",
    "plt.ylabel(\"Loss\")\n",
    "plt_train, = plt.plot(history['train_loss'], '--', color=\"gainsboro\", label='Training')\n",
    "plt_test, = plt.plot(history['test_loss'], color='cornflowerblue', label='Testing')\n",
    "plt.legend(handles=[plt_train, plt_test])\n",
    "plt.show()"
   ]
  },
  {
   "cell_type": "code",
   "execution_count": null,
   "metadata": {
    "collapsed": true
   },
   "outputs": [],
   "source": []
  }
 ],
 "metadata": {
  "kernelspec": {
   "display_name": "Python 3",
   "language": "python",
   "name": "python3"
  },
  "language_info": {
   "codemirror_mode": {
    "name": "ipython",
    "version": 3
   },
   "file_extension": ".py",
   "mimetype": "text/x-python",
   "name": "python",
   "nbconvert_exporter": "python",
   "pygments_lexer": "ipython3",
   "version": "3.6.1"
  }
 },
 "nbformat": 4,
 "nbformat_minor": 2
}
