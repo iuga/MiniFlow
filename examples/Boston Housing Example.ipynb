{
 "cells": [
  {
   "cell_type": "markdown",
   "metadata": {},
   "source": [
    "# Boston Housing Example\n",
    "The Boston Housing data set was analyzed by Harrison and Rubinfeld (1978) who wanted to find out whether clean air had an influence on house prices. We will use this data set in this example and in most of the following examples to illustrate the presented methodology. You can find the dataset here: https://archive.ics.uci.edu/ml/datasets/Housing."
   ]
  },
  {
   "cell_type": "code",
   "execution_count": 1,
   "metadata": {},
   "outputs": [],
   "source": [
    "import numpy as np\n",
    "from sklearn.datasets import load_boston\n",
    "from miniflow.layers import Input, Linear, Sigmoid, Variable\n",
    "from miniflow.topology import Model\n",
    "from sklearn.model_selection import train_test_split"
   ]
  },
  {
   "cell_type": "markdown",
   "metadata": {},
   "source": [
    "The dataset concerns housing values in suburbs of Boston. The features are:\n",
    "1. CRIM: per capita crime rate by town \n",
    "2. ZN: proportion of residential land zoned for lots over 25,000 sq.ft. \n",
    "3. INDUS: proportion of non-retail business acres per town \n",
    "4. CHAS: Charles River dummy variable (= 1 if tract bounds river; 0 otherwise) \n",
    "5. NOX: nitric oxides concentration (parts per 10 million) \n",
    "6. RM: average number of rooms per dwelling \n",
    "7. AGE: proportion of owner-occupied units built prior to 1940 \n",
    "8. DIS: weighted distances to five Boston employment centres \n",
    "9. RAD: index of accessibility to radial highways \n",
    "10. TAX: full-value property-tax rate per `$10,000`\n",
    "11. PTRATIO: pupil-teacher ratio by town \n",
    "12. B: 1000(Bk - 0.63)^2 where Bk is the proportion of blacks by town \n",
    "13. LSTAT: % lower status of the population \n",
    "14. MEDV: Median value of owner-occupied homes in $1000's\n",
    "\n",
    "## Pre-processing"
   ]
  },
  {
   "cell_type": "code",
   "execution_count": 2,
   "metadata": {},
   "outputs": [
    {
     "name": "stdout",
     "output_type": "stream",
     "text": [
      "Shapes X: (506, 13) y:(506,)\n",
      "[  6.32000000e-03   1.80000000e+01   2.31000000e+00   0.00000000e+00\n",
      "   5.38000000e-01   6.57500000e+00   6.52000000e+01   4.09000000e+00\n",
      "   1.00000000e+00   2.96000000e+02   1.53000000e+01   3.96900000e+02\n",
      "   4.98000000e+00] = 24.0\n"
     ]
    }
   ],
   "source": [
    "# Load dataset\n",
    "data = load_boston()\n",
    "X = data['data']\n",
    "y = data['target']\n",
    "print(\"Shapes X: {} y:{}\".format(X.shape, y.shape))\n",
    "print(X[0], '=', y[0])"
   ]
  },
  {
   "cell_type": "code",
   "execution_count": 3,
   "metadata": {},
   "outputs": [
    {
     "name": "stdout",
     "output_type": "stream",
     "text": [
      "[-0.41771335  0.28482986 -1.2879095  -0.27259857 -0.14421743  0.41367189\n",
      " -0.12001342  0.1402136  -0.98284286 -0.66660821 -1.45900038  0.44105193\n",
      " -1.0755623 ]\n"
     ]
    }
   ],
   "source": [
    "# Let's start normalizing the data\n",
    "X = (X - np.mean(X, axis=0)) / np.std(X, axis=0)\n",
    "print(X[0])"
   ]
  },
  {
   "cell_type": "code",
   "execution_count": 4,
   "metadata": {},
   "outputs": [
    {
     "name": "stdout",
     "output_type": "stream",
     "text": [
      "Shapes X_train: (404, 13) y_train:(404,) X_test:(102, 13) y_test:(102,)\n"
     ]
    }
   ],
   "source": [
    "# Finally, split between train/test sets:\n",
    "X_train, X_test, y_train, y_test = train_test_split(X, y, test_size=0.20)\n",
    "print(\"Shapes X_train: {} y_train:{} X_test:{} y_test:{}\".format(X_train.shape, y_train.shape, X_test.shape, y_test.shape))"
   ]
  },
  {
   "cell_type": "markdown",
   "metadata": {},
   "source": [
    "## Simple Network Topology"
   ]
  },
  {
   "cell_type": "code",
   "execution_count": 28,
   "metadata": {
    "collapsed": true
   },
   "outputs": [],
   "source": [
    "# Configuration\n",
    "n_features = X_train.shape[1]\n",
    "n_hidden = 100\n",
    "\n",
    "# Layers Initialization Weights:\n",
    "#W1 = np.random.randn(n_features, n_hidden)\n",
    "W1 = np.random.normal(0, 0.1, (n_features, n_hidden))\n",
    "b1 = np.zeros(n_hidden)\n",
    "#W2 = np.random.randn(n_hidden, 1)\n",
    "W2 = np.random.normal(0, 0.1, (n_hidden, 1))\n",
    "b2 = np.zeros(1)\n",
    "\n",
    "# Neural network inputs (X and y):\n",
    "Xi = Input(name=\"X_input\")\n",
    "yi = Input(name=\"y_input\")\n",
    "\n",
    "# Neural Network trainable parameter:\n",
    "W1i, b1i = Variable(name=\"W1\"), Variable(name=\"b1\")\n",
    "W2i, b2i = Variable(name=\"W2\"), Variable(name=\"b2\")\n",
    "\n",
    "# Topology\n",
    "Xi = Input()\n",
    "x = Linear(W1i, b1i)(Xi)\n",
    "x = Sigmoid()(x)\n",
    "x = Linear(W2i, b2i)(x)"
   ]
  },
  {
   "cell_type": "markdown",
   "metadata": {},
   "source": [
    "## Training"
   ]
  },
  {
   "cell_type": "code",
   "execution_count": 29,
   "metadata": {},
   "outputs": [
    {
     "name": "stdout",
     "output_type": "stream",
     "text": [
      "Epoch 1: \n",
      "Train Loss: 2190.140 - Test Loss: 2377.192\n",
      "Epoch 2: \n",
      "Train Loss: 485.036 - Test Loss: 158.703\n",
      "Epoch 3: \n",
      "Train Loss: 56.522 - Test Loss: 68.645\n",
      "Epoch 4: \n",
      "Train Loss: 38.566 - Test Loss: 52.126\n",
      "Epoch 5: \n",
      "Train Loss: 24.373 - Test Loss: 47.460\n",
      "Epoch 6: \n",
      "Train Loss: 24.355 - Test Loss: 43.433\n",
      "Epoch 7: \n",
      "Train Loss: 21.448 - Test Loss: 41.163\n",
      "Epoch 8: \n",
      "Train Loss: 19.141 - Test Loss: 39.178\n",
      "Epoch 9: \n",
      "Train Loss: 18.631 - Test Loss: 39.024\n",
      "Epoch 10: \n",
      "Train Loss: 16.848 - Test Loss: 36.508\n",
      "Epoch 11: \n",
      "Train Loss: 14.402 - Test Loss: 33.961\n",
      "Epoch 12: \n",
      "Train Loss: 14.618 - Test Loss: 32.421\n",
      "Epoch 13: \n",
      "Train Loss: 14.158 - Test Loss: 30.280\n",
      "Epoch 14: \n",
      "Train Loss: 13.561 - Test Loss: 28.081\n",
      "Epoch 15: \n",
      "Train Loss: 13.609 - Test Loss: 25.817\n",
      "Epoch 16: \n",
      "Train Loss: 11.903 - Test Loss: 24.111\n",
      "Epoch 17: \n",
      "Train Loss: 11.593 - Test Loss: 23.242\n",
      "Epoch 18: \n",
      "Train Loss: 11.807 - Test Loss: 23.068\n",
      "Epoch 19: \n",
      "Train Loss: 9.419 - Test Loss: 23.435\n",
      "Epoch 20: \n",
      "Train Loss: 9.601 - Test Loss: 21.714\n",
      "Epoch 21: \n",
      "Train Loss: 9.597 - Test Loss: 20.448\n",
      "Epoch 22: \n",
      "Train Loss: 11.110 - Test Loss: 19.142\n",
      "Epoch 23: \n",
      "Train Loss: 7.654 - Test Loss: 19.454\n",
      "Epoch 24: \n",
      "Train Loss: 9.493 - Test Loss: 18.595\n",
      "Epoch 25: \n",
      "Train Loss: 9.772 - Test Loss: 18.017\n",
      "Epoch 26: \n",
      "Train Loss: 9.385 - Test Loss: 18.309\n",
      "Epoch 27: \n",
      "Train Loss: 6.920 - Test Loss: 17.734\n",
      "Epoch 28: \n",
      "Train Loss: 12.875 - Test Loss: 15.985\n",
      "Epoch 29: \n",
      "Train Loss: 9.214 - Test Loss: 15.500\n",
      "Epoch 30: \n",
      "Train Loss: 7.191 - Test Loss: 15.838\n",
      "Epoch 31: \n",
      "Train Loss: 9.383 - Test Loss: 15.852\n",
      "Epoch 32: \n",
      "Train Loss: 7.127 - Test Loss: 15.810\n",
      "Epoch 33: \n",
      "Train Loss: 8.896 - Test Loss: 15.209\n",
      "Epoch 34: \n",
      "Train Loss: 6.318 - Test Loss: 14.344\n",
      "Epoch 35: \n",
      "Train Loss: 9.126 - Test Loss: 14.255\n",
      "Epoch 36: \n",
      "Train Loss: 7.555 - Test Loss: 14.663\n",
      "Epoch 37: \n",
      "Train Loss: 6.738 - Test Loss: 15.130\n",
      "Epoch 38: \n",
      "Train Loss: 12.089 - Test Loss: 14.669\n",
      "Epoch 39: \n",
      "Train Loss: 6.783 - Test Loss: 13.652\n",
      "Epoch 40: \n",
      "Train Loss: 9.317 - Test Loss: 13.956\n",
      "Epoch 41: \n",
      "Train Loss: 6.611 - Test Loss: 14.259\n",
      "Epoch 42: \n",
      "Train Loss: 8.414 - Test Loss: 13.458\n",
      "Epoch 43: \n",
      "Train Loss: 7.873 - Test Loss: 13.201\n",
      "Epoch 44: \n",
      "Train Loss: 7.191 - Test Loss: 13.191\n",
      "Epoch 45: \n",
      "Train Loss: 7.880 - Test Loss: 13.060\n",
      "Epoch 46: \n",
      "Train Loss: 7.981 - Test Loss: 13.270\n",
      "Epoch 47: \n",
      "Train Loss: 8.026 - Test Loss: 13.195\n",
      "Epoch 48: \n",
      "Train Loss: 7.833 - Test Loss: 12.983\n",
      "Epoch 49: \n",
      "Train Loss: 7.062 - Test Loss: 12.595\n",
      "Epoch 50: \n",
      "Train Loss: 6.322 - Test Loss: 12.400\n",
      "Epoch 51: \n",
      "Train Loss: 7.208 - Test Loss: 13.310\n",
      "Epoch 52: \n",
      "Train Loss: 6.448 - Test Loss: 13.039\n",
      "Epoch 53: \n",
      "Train Loss: 8.213 - Test Loss: 13.061\n",
      "Epoch 54: \n",
      "Train Loss: 6.809 - Test Loss: 13.111\n",
      "Epoch 55: \n",
      "Train Loss: 9.237 - Test Loss: 13.235\n",
      "Epoch 56: \n",
      "Train Loss: 7.578 - Test Loss: 12.977\n",
      "Epoch 57: \n",
      "Train Loss: 5.754 - Test Loss: 12.684\n",
      "Epoch 58: \n",
      "Train Loss: 6.511 - Test Loss: 12.859\n",
      "Epoch 59: \n",
      "Train Loss: 8.215 - Test Loss: 12.286\n",
      "Epoch 60: \n",
      "Train Loss: 8.144 - Test Loss: 12.759\n",
      "Epoch 61: \n",
      "Train Loss: 6.225 - Test Loss: 13.037\n",
      "Epoch 62: \n",
      "Train Loss: 7.114 - Test Loss: 12.555\n",
      "Epoch 63: \n",
      "Train Loss: 7.142 - Test Loss: 12.478\n",
      "Epoch 64: \n",
      "Train Loss: 5.779 - Test Loss: 12.228\n",
      "Epoch 65: \n",
      "Train Loss: 7.983 - Test Loss: 12.081\n",
      "Epoch 66: \n",
      "Train Loss: 7.061 - Test Loss: 12.026\n",
      "Epoch 67: \n",
      "Train Loss: 6.140 - Test Loss: 12.251\n",
      "Epoch 68: \n",
      "Train Loss: 7.463 - Test Loss: 11.975\n",
      "Epoch 69: \n",
      "Train Loss: 5.305 - Test Loss: 12.563\n",
      "Epoch 70: \n",
      "Train Loss: 6.080 - Test Loss: 12.435\n",
      "Epoch 71: \n",
      "Train Loss: 5.556 - Test Loss: 12.810\n",
      "Epoch 72: \n",
      "Train Loss: 5.962 - Test Loss: 12.109\n",
      "Epoch 73: \n",
      "Train Loss: 7.361 - Test Loss: 12.065\n",
      "Epoch 74: \n",
      "Train Loss: 6.383 - Test Loss: 12.061\n",
      "Epoch 75: \n",
      "Train Loss: 6.776 - Test Loss: 12.373\n",
      "Epoch 76: \n",
      "Train Loss: 5.993 - Test Loss: 12.206\n",
      "Epoch 77: \n",
      "Train Loss: 6.491 - Test Loss: 12.431\n",
      "Epoch 78: \n",
      "Train Loss: 6.067 - Test Loss: 12.103\n",
      "Epoch 79: \n",
      "Train Loss: 4.359 - Test Loss: 11.495\n",
      "Epoch 80: \n",
      "Train Loss: 7.215 - Test Loss: 11.547\n",
      "Epoch 81: \n",
      "Train Loss: 5.922 - Test Loss: 12.334\n",
      "Epoch 82: \n",
      "Train Loss: 7.669 - Test Loss: 11.722\n",
      "Epoch 83: \n",
      "Train Loss: 7.349 - Test Loss: 12.100\n",
      "Epoch 84: \n",
      "Train Loss: 5.380 - Test Loss: 12.381\n",
      "Epoch 85: \n",
      "Train Loss: 6.000 - Test Loss: 12.468\n",
      "Epoch 86: \n",
      "Train Loss: 7.342 - Test Loss: 12.476\n",
      "Epoch 87: \n",
      "Train Loss: 5.353 - Test Loss: 11.683\n",
      "Epoch 88: \n",
      "Train Loss: 6.287 - Test Loss: 11.801\n",
      "Epoch 89: \n",
      "Train Loss: 4.910 - Test Loss: 11.883\n",
      "Epoch 90: \n",
      "Train Loss: 5.150 - Test Loss: 11.552\n",
      "Epoch 91: \n",
      "Train Loss: 6.720 - Test Loss: 11.945\n",
      "Epoch 92: \n",
      "Train Loss: 7.934 - Test Loss: 12.204\n",
      "Epoch 93: \n",
      "Train Loss: 8.381 - Test Loss: 11.878\n",
      "Epoch 94: \n",
      "Train Loss: 4.795 - Test Loss: 11.625\n",
      "Epoch 95: \n",
      "Train Loss: 5.334 - Test Loss: 11.825\n",
      "Epoch 96: \n",
      "Train Loss: 6.419 - Test Loss: 11.830\n",
      "Epoch 97: \n",
      "Train Loss: 5.209 - Test Loss: 11.984\n",
      "Epoch 98: \n",
      "Train Loss: 5.047 - Test Loss: 11.561\n",
      "Epoch 99: \n",
      "Train Loss: 6.006 - Test Loss: 11.194\n",
      "Epoch 100: \n",
      "Train Loss: 4.862 - Test Loss: 11.878\n"
     ]
    }
   ],
   "source": [
    "# Define the base Model object\n",
    "model = Model(inputs=[Xi], outputs=[x])\n",
    "# Compile the model setting the loss funciton: Mean Square Error\n",
    "model.compile(loss='mse')\n",
    "# Train the model getting the history data:\n",
    "history = model.train(X_train, y_train, X_test=X_test, y_test=y_test, epochs=100, batch_size=64, feed_dict={\n",
    "    W1i: W1,\n",
    "    b1i: b1,\n",
    "    W2i: W2,\n",
    "    b2i: b2\n",
    "})"
   ]
  },
  {
   "cell_type": "code",
   "execution_count": 30,
   "metadata": {},
   "outputs": [
    {
     "data": {
      "image/png": "[encoded data removed]",
      "text/plain": [
       "<matplotlib.figure.Figure at 0x119d92a58>"
      ]
     },
     "metadata": {},
     "output_type": "display_data"
    }
   ],
   "source": [
    "#\n",
    "# Plot the training results\n",
    "#\n",
    "import matplotlib.pyplot as plt\n",
    "plt.figure()\n",
    "plt.title(\"Training vs Testing Performance\")\n",
    "plt.xlabel(\"Iteration\")\n",
    "plt.ylabel(\"Loss\")\n",
    "plt_train, = plt.plot(history['train_loss'], '--', color=\"gainsboro\", label='Training')\n",
    "plt_test, = plt.plot(history['test_loss'], color='cornflowerblue', label='Testing')\n",
    "plt.legend(handles=[plt_train, plt_test])\n",
    "plt.show()"
   ]
  },
  {
   "cell_type": "code",
   "execution_count": null,
   "metadata": {
    "collapsed": true
   },
   "outputs": [],
   "source": []
  }
 ],
 "metadata": {
  "kernelspec": {
   "display_name": "Python 3",
   "language": "python",
   "name": "python3"
  },
  "language_info": {
   "codemirror_mode": {
    "name": "ipython",
    "version": 3
   },
   "file_extension": ".py",
   "mimetype": "text/x-python",
   "name": "python",
   "nbconvert_exporter": "python",
   "pygments_lexer": "ipython3",
   "version": "3.6.1"
  }
 },
 "nbformat": 4,
 "nbformat_minor": 2
}
