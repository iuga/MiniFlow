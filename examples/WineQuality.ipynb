{
 "cells": [
  {
   "cell_type": "markdown",
   "metadata": {},
   "source": [
    "# Wine Quality Dataset\n",
    "The two datasets are related to red and white variants of the Portuguese \"Vinho Verde\" wine. Due to privacy and logistic issues, only physicochemical (inputs) and sensory (the output) variables are available (e.g. there is no data about grape types, wine brand, wine selling price, etc.). \n",
    "\n",
    "These datasets can be viewed as classification or regression tasks. The classes are ordered and not balanced (e.g. there are munch more normal wines than excellent or poor ones). Outlier detection algorithms could be used to detect the few excellent or poor wines. Also, we are not sure if all input variables are relevant. So it could be interesting to test feature selection methods. "
   ]
  },
  {
   "cell_type": "code",
   "execution_count": 1,
   "metadata": {
    "collapsed": true
   },
   "outputs": [],
   "source": [
    "import numpy as np\n",
    "import pandas as pd\n",
    "from sklearn.model_selection import train_test_split"
   ]
  },
  {
   "cell_type": "markdown",
   "metadata": {},
   "source": [
    "**Input variables** (based on physicochemical tests): \n",
    "\n",
    "- fixed acidity \n",
    "- volatile acidity \n",
    "- citric acid \n",
    "- residual sugar \n",
    "- chlorides \n",
    "- free sulfur dioxide \n",
    "- total sulfur dioxide \n",
    "- density \n",
    "- pH \n",
    "- sulphates \n",
    "- alcohol \n",
    "\n",
    "**Output variable** (based on sensory data): \n",
    "\n",
    "- quality (score between 0 and 10)\n",
    "\n",
    "## Downloading and Pre-processing"
   ]
  },
  {
   "cell_type": "code",
   "execution_count": 2,
   "metadata": {},
   "outputs": [
    {
     "name": "stdout",
     "output_type": "stream",
     "text": [
      "--2017-04-08 15:23:06--  http://www3.dsi.uminho.pt/pcortez/wine/winequality.zip\n",
      "Resolving www3.dsi.uminho.pt... 193.136.11.133\n",
      "Connecting to www3.dsi.uminho.pt|193.136.11.133|:80... connected.\n",
      "HTTP request sent, awaiting response... 200 OK\n",
      "Length: 96005 (94K) [application/x-zip-compressed]\n",
      "Saving to: ‘/tmp/winequality.zip’\n",
      "\n",
      "/tmp/winequality.zi 100%[===================>]  93.75K  51.6KB/s    in 1.8s    \n",
      "\n",
      "2017-04-08 15:23:09 (51.6 KB/s) - ‘/tmp/winequality.zip’ saved [96005/96005]\n",
      "\n",
      "Archive:  /tmp/winequality.zip\n",
      "  inflating: /tmp/winequality/winequality-names.txt  \n",
      "  inflating: /tmp/winequality/winequality-names.txt.bak  \n",
      "  inflating: /tmp/winequality/winequality-red.csv  \n",
      "  inflating: /tmp/winequality/winequality-white.csv  \n"
     ]
    },
    {
     "data": {
      "text/html": [
       "<div>\n",
       "<table border=\"1\" class=\"dataframe\">\n",
       "  <thead>\n",
       "    <tr style=\"text-align: right;\">\n",
       "      <th></th>\n",
       "      <th>fixed acidity</th>\n",
       "      <th>volatile acidity</th>\n",
       "      <th>citric acid</th>\n",
       "      <th>residual sugar</th>\n",
       "      <th>chlorides</th>\n",
       "      <th>free sulfur dioxide</th>\n",
       "      <th>total sulfur dioxide</th>\n",
       "      <th>density</th>\n",
       "      <th>pH</th>\n",
       "      <th>sulphates</th>\n",
       "      <th>alcohol</th>\n",
       "      <th>quality</th>\n",
       "    </tr>\n",
       "  </thead>\n",
       "  <tbody>\n",
       "    <tr>\n",
       "      <th>0</th>\n",
       "      <td>7.4</td>\n",
       "      <td>0.70</td>\n",
       "      <td>0.00</td>\n",
       "      <td>1.9</td>\n",
       "      <td>0.076</td>\n",
       "      <td>11.0</td>\n",
       "      <td>34.0</td>\n",
       "      <td>0.9978</td>\n",
       "      <td>3.51</td>\n",
       "      <td>0.56</td>\n",
       "      <td>9.4</td>\n",
       "      <td>5</td>\n",
       "    </tr>\n",
       "    <tr>\n",
       "      <th>1</th>\n",
       "      <td>7.8</td>\n",
       "      <td>0.88</td>\n",
       "      <td>0.00</td>\n",
       "      <td>2.6</td>\n",
       "      <td>0.098</td>\n",
       "      <td>25.0</td>\n",
       "      <td>67.0</td>\n",
       "      <td>0.9968</td>\n",
       "      <td>3.20</td>\n",
       "      <td>0.68</td>\n",
       "      <td>9.8</td>\n",
       "      <td>5</td>\n",
       "    </tr>\n",
       "    <tr>\n",
       "      <th>2</th>\n",
       "      <td>7.8</td>\n",
       "      <td>0.76</td>\n",
       "      <td>0.04</td>\n",
       "      <td>2.3</td>\n",
       "      <td>0.092</td>\n",
       "      <td>15.0</td>\n",
       "      <td>54.0</td>\n",
       "      <td>0.9970</td>\n",
       "      <td>3.26</td>\n",
       "      <td>0.65</td>\n",
       "      <td>9.8</td>\n",
       "      <td>5</td>\n",
       "    </tr>\n",
       "    <tr>\n",
       "      <th>3</th>\n",
       "      <td>11.2</td>\n",
       "      <td>0.28</td>\n",
       "      <td>0.56</td>\n",
       "      <td>1.9</td>\n",
       "      <td>0.075</td>\n",
       "      <td>17.0</td>\n",
       "      <td>60.0</td>\n",
       "      <td>0.9980</td>\n",
       "      <td>3.16</td>\n",
       "      <td>0.58</td>\n",
       "      <td>9.8</td>\n",
       "      <td>6</td>\n",
       "    </tr>\n",
       "    <tr>\n",
       "      <th>4</th>\n",
       "      <td>7.4</td>\n",
       "      <td>0.70</td>\n",
       "      <td>0.00</td>\n",
       "      <td>1.9</td>\n",
       "      <td>0.076</td>\n",
       "      <td>11.0</td>\n",
       "      <td>34.0</td>\n",
       "      <td>0.9978</td>\n",
       "      <td>3.51</td>\n",
       "      <td>0.56</td>\n",
       "      <td>9.4</td>\n",
       "      <td>5</td>\n",
       "    </tr>\n",
       "  </tbody>\n",
       "</table>\n",
       "</div>"
      ],
      "text/plain": [
       "   fixed acidity  volatile acidity  citric acid  residual sugar  chlorides  \\\n",
       "0            7.4              0.70         0.00             1.9      0.076   \n",
       "1            7.8              0.88         0.00             2.6      0.098   \n",
       "2            7.8              0.76         0.04             2.3      0.092   \n",
       "3           11.2              0.28         0.56             1.9      0.075   \n",
       "4            7.4              0.70         0.00             1.9      0.076   \n",
       "\n",
       "   free sulfur dioxide  total sulfur dioxide  density    pH  sulphates  \\\n",
       "0                 11.0                  34.0   0.9978  3.51       0.56   \n",
       "1                 25.0                  67.0   0.9968  3.20       0.68   \n",
       "2                 15.0                  54.0   0.9970  3.26       0.65   \n",
       "3                 17.0                  60.0   0.9980  3.16       0.58   \n",
       "4                 11.0                  34.0   0.9978  3.51       0.56   \n",
       "\n",
       "   alcohol  quality  \n",
       "0      9.4        5  \n",
       "1      9.8        5  \n",
       "2      9.8        5  \n",
       "3      9.8        6  \n",
       "4      9.4        5  "
      ]
     },
     "execution_count": 2,
     "metadata": {},
     "output_type": "execute_result"
    }
   ],
   "source": [
    "!rm -rf /tmp/winequality\n",
    "!wget http://www3.dsi.uminho.pt/pcortez/wine/winequality.zip -O /tmp/winequality.zip\n",
    "!unzip /tmp/winequality.zip -d /tmp/\n",
    "red_wines = pd.read_csv('/tmp/winequality/winequality-red.csv', sep=';')\n",
    "red_wines.head()"
   ]
  },
  {
   "cell_type": "markdown",
   "metadata": {},
   "source": [
    "Separate the X and y and normalize both groups:"
   ]
  },
  {
   "cell_type": "code",
   "execution_count": 60,
   "metadata": {},
   "outputs": [
    {
     "data": {
      "text/plain": [
       "(array([-0.52835961,  0.96187667, -1.39147228, -0.45321841, -0.24370669,\n",
       "        -0.46619252, -0.37913269,  0.55827446,  1.28864292, -0.57920652,\n",
       "        -0.96024611]), 0.40000000000000002)"
      ]
     },
     "execution_count": 60,
     "metadata": {},
     "output_type": "execute_result"
    }
   ],
   "source": [
    "# Get the numpy dataset:\n",
    "X = red_wines.as_matrix()[:,:-1]\n",
    "y = red_wines.as_matrix()[:,-1]\n",
    "\n",
    "# Normalize them\n",
    "X = (X - np.mean(X, axis=0)) / np.std(X, axis=0)\n",
    "y = (y - np.min(y, axis=0)) / (np.max(y, axis=0)-np.min(y, axis=0))\n",
    "X[0], y[0]"
   ]
  },
  {
   "cell_type": "code",
   "execution_count": 61,
   "metadata": {},
   "outputs": [
    {
     "name": "stdout",
     "output_type": "stream",
     "text": [
      "Shapes X_train: (1279, 11) y_train:(1279,) X_test:(320, 11) y_test:(320,)\n"
     ]
    }
   ],
   "source": [
    "# Finally, split between train/test sets:\n",
    "X_train, X_test, y_train, y_test = train_test_split(X, y, test_size=0.20)\n",
    "print(\"Shapes X_train: {} y_train:{} X_test:{} y_test:{}\".format(X_train.shape, y_train.shape, X_test.shape, y_test.shape))"
   ]
  },
  {
   "cell_type": "markdown",
   "metadata": {},
   "source": [
    "## Calculate the Baseline\n",
    "As a regression problem we are going to predict always the mean score of the wine and calculate the MSE:"
   ]
  },
  {
   "cell_type": "code",
   "execution_count": 62,
   "metadata": {},
   "outputs": [
    {
     "data": {
      "text/plain": [
       "0.026538080412460627"
      ]
     },
     "execution_count": 62,
     "metadata": {},
     "output_type": "execute_result"
    }
   ],
   "source": [
    "from sklearn.metrics import mean_squared_error\n",
    "y_mean = np.mean(y_train)\n",
    "y_pred = np.full(y_train.shape, y_mean)\n",
    "baseline = mean_squared_error(y_train, y_pred)\n",
    "baseline"
   ]
  },
  {
   "cell_type": "markdown",
   "metadata": {},
   "source": [
    "## Simple Network Topology"
   ]
  },
  {
   "cell_type": "code",
   "execution_count": 63,
   "metadata": {
    "collapsed": true
   },
   "outputs": [],
   "source": [
    "from miniflow.layers import Input, Linear, Sigmoid, Variable, ReLU\n",
    "from miniflow.topology import Model"
   ]
  },
  {
   "cell_type": "code",
   "execution_count": 64,
   "metadata": {},
   "outputs": [],
   "source": [
    "# Configuration\n",
    "n_features = X_train.shape[1]\n",
    "n_hidden = 10\n",
    "\n",
    "# Layers Initialization Weights:\n",
    "W1 = np.random.normal(0, 0.01, (n_features, n_hidden))\n",
    "b1 = np.zeros(n_hidden)\n",
    "W2 = np.random.normal(0, 0.01, (n_hidden, 1))\n",
    "b2 = np.zeros(1)\n",
    "\n",
    "# Neural network inputs (X and y):\n",
    "Xi = Input(name=\"X_input\")\n",
    "yi = Input(name=\"y_input\")\n",
    "\n",
    "# Neural Network trainable parameter:\n",
    "W1i, b1i = Variable(name=\"W1\"), Variable(name=\"b1\")\n",
    "W2i, b2i = Variable(name=\"W2\"), Variable(name=\"b2\")\n",
    "\n",
    "# Topology\n",
    "Xi = Input()\n",
    "x = Linear(W1i, b1i)(Xi)\n",
    "x = ReLU()(x)\n",
    "x = Linear(W2i, b2i)(x)"
   ]
  },
  {
   "cell_type": "markdown",
   "metadata": {},
   "source": [
    "## Training"
   ]
  },
  {
   "cell_type": "code",
   "execution_count": 65,
   "metadata": {},
   "outputs": [
    {
     "name": "stdout",
     "output_type": "stream",
     "text": [
      "Epoch 1: \n",
      "Train Loss: 0.164 - Test Loss: 0.131\n",
      "Epoch 2: \n",
      "Train Loss: 0.046 - Test Loss: 0.038\n",
      "Epoch 3: \n",
      "Train Loss: 0.029 - Test Loss: 0.026\n",
      "Epoch 4: \n",
      "Train Loss: 0.025 - Test Loss: 0.024\n",
      "Epoch 5: \n",
      "Train Loss: 0.026 - Test Loss: 0.024\n",
      "Epoch 6: \n",
      "Train Loss: 0.026 - Test Loss: 0.024\n",
      "Epoch 7: \n",
      "Train Loss: 0.027 - Test Loss: 0.024\n",
      "Epoch 8: \n",
      "Train Loss: 0.025 - Test Loss: 0.024\n",
      "Epoch 9: \n",
      "Train Loss: 0.024 - Test Loss: 0.024\n",
      "Epoch 10: \n",
      "Train Loss: 0.025 - Test Loss: 0.024\n",
      "Epoch 11: \n",
      "Train Loss: 0.028 - Test Loss: 0.024\n",
      "Epoch 12: \n",
      "Train Loss: 0.026 - Test Loss: 0.024\n",
      "Epoch 13: \n",
      "Train Loss: 0.025 - Test Loss: 0.024\n",
      "Epoch 14: \n",
      "Train Loss: 0.025 - Test Loss: 0.023\n",
      "Epoch 15: \n",
      "Train Loss: 0.026 - Test Loss: 0.023\n",
      "Epoch 16: \n",
      "Train Loss: 0.025 - Test Loss: 0.023\n",
      "Epoch 17: \n",
      "Train Loss: 0.024 - Test Loss: 0.023\n",
      "Epoch 18: \n",
      "Train Loss: 0.025 - Test Loss: 0.023\n",
      "Epoch 19: \n",
      "Train Loss: 0.026 - Test Loss: 0.023\n",
      "Epoch 20: \n",
      "Train Loss: 0.024 - Test Loss: 0.023\n",
      "Epoch 21: \n",
      "Train Loss: 0.025 - Test Loss: 0.022\n",
      "Epoch 22: \n",
      "Train Loss: 0.025 - Test Loss: 0.022\n",
      "Epoch 23: \n",
      "Train Loss: 0.023 - Test Loss: 0.022\n",
      "Epoch 24: \n",
      "Train Loss: 0.023 - Test Loss: 0.022\n",
      "Epoch 25: \n",
      "Train Loss: 0.024 - Test Loss: 0.021\n",
      "Epoch 26: \n",
      "Train Loss: 0.023 - Test Loss: 0.021\n",
      "Epoch 27: \n",
      "Train Loss: 0.022 - Test Loss: 0.021\n",
      "Epoch 28: \n",
      "Train Loss: 0.023 - Test Loss: 0.021\n",
      "Epoch 29: \n",
      "Train Loss: 0.022 - Test Loss: 0.020\n",
      "Epoch 30: \n",
      "Train Loss: 0.020 - Test Loss: 0.020\n",
      "Epoch 31: \n",
      "Train Loss: 0.021 - Test Loss: 0.020\n",
      "Epoch 32: \n",
      "Train Loss: 0.020 - Test Loss: 0.019\n",
      "Epoch 33: \n",
      "Train Loss: 0.020 - Test Loss: 0.019\n",
      "Epoch 34: \n",
      "Train Loss: 0.020 - Test Loss: 0.019\n",
      "Epoch 35: \n",
      "Train Loss: 0.019 - Test Loss: 0.018\n",
      "Epoch 36: \n",
      "Train Loss: 0.020 - Test Loss: 0.018\n",
      "Epoch 37: \n",
      "Train Loss: 0.018 - Test Loss: 0.018\n",
      "Epoch 38: \n",
      "Train Loss: 0.019 - Test Loss: 0.018\n",
      "Epoch 39: \n",
      "Train Loss: 0.019 - Test Loss: 0.018\n",
      "Epoch 40: \n",
      "Train Loss: 0.016 - Test Loss: 0.018\n",
      "Epoch 41: \n",
      "Train Loss: 0.019 - Test Loss: 0.018\n",
      "Epoch 42: \n",
      "Train Loss: 0.018 - Test Loss: 0.017\n",
      "Epoch 43: \n",
      "Train Loss: 0.017 - Test Loss: 0.017\n",
      "Epoch 44: \n",
      "Train Loss: 0.017 - Test Loss: 0.017\n",
      "Epoch 45: \n",
      "Train Loss: 0.017 - Test Loss: 0.017\n",
      "Epoch 46: \n",
      "Train Loss: 0.017 - Test Loss: 0.017\n",
      "Epoch 47: \n",
      "Train Loss: 0.018 - Test Loss: 0.017\n",
      "Epoch 48: \n",
      "Train Loss: 0.019 - Test Loss: 0.017\n",
      "Epoch 49: \n",
      "Train Loss: 0.016 - Test Loss: 0.017\n",
      "Epoch 50: \n",
      "Train Loss: 0.016 - Test Loss: 0.017\n",
      "Epoch 51: \n",
      "Train Loss: 0.017 - Test Loss: 0.017\n",
      "Epoch 52: \n",
      "Train Loss: 0.018 - Test Loss: 0.017\n",
      "Epoch 53: \n",
      "Train Loss: 0.018 - Test Loss: 0.017\n",
      "Epoch 54: \n",
      "Train Loss: 0.017 - Test Loss: 0.017\n",
      "Epoch 55: \n",
      "Train Loss: 0.018 - Test Loss: 0.017\n",
      "Epoch 56: \n",
      "Train Loss: 0.018 - Test Loss: 0.017\n",
      "Epoch 57: \n",
      "Train Loss: 0.016 - Test Loss: 0.017\n",
      "Epoch 58: \n",
      "Train Loss: 0.017 - Test Loss: 0.017\n",
      "Epoch 59: \n",
      "Train Loss: 0.018 - Test Loss: 0.017\n",
      "Epoch 60: \n",
      "Train Loss: 0.016 - Test Loss: 0.017\n",
      "Epoch 61: \n",
      "Train Loss: 0.018 - Test Loss: 0.017\n",
      "Epoch 62: \n",
      "Train Loss: 0.017 - Test Loss: 0.017\n",
      "Epoch 63: \n",
      "Train Loss: 0.016 - Test Loss: 0.017\n",
      "Epoch 64: \n",
      "Train Loss: 0.016 - Test Loss: 0.017\n",
      "Epoch 65: \n",
      "Train Loss: 0.018 - Test Loss: 0.017\n",
      "Epoch 66: \n",
      "Train Loss: 0.016 - Test Loss: 0.017\n",
      "Epoch 67: \n",
      "Train Loss: 0.016 - Test Loss: 0.017\n",
      "Epoch 68: \n",
      "Train Loss: 0.017 - Test Loss: 0.017\n",
      "Epoch 69: \n",
      "Train Loss: 0.016 - Test Loss: 0.017\n",
      "Epoch 70: \n",
      "Train Loss: 0.017 - Test Loss: 0.017\n",
      "Epoch 71: \n",
      "Train Loss: 0.016 - Test Loss: 0.017\n",
      "Epoch 72: \n",
      "Train Loss: 0.016 - Test Loss: 0.017\n",
      "Epoch 73: \n",
      "Train Loss: 0.017 - Test Loss: 0.017\n",
      "Epoch 74: \n",
      "Train Loss: 0.017 - Test Loss: 0.017\n",
      "Epoch 75: \n",
      "Train Loss: 0.016 - Test Loss: 0.017\n",
      "Epoch 76: \n",
      "Train Loss: 0.017 - Test Loss: 0.017\n",
      "Epoch 77: \n",
      "Train Loss: 0.016 - Test Loss: 0.017\n",
      "Epoch 78: \n",
      "Train Loss: 0.016 - Test Loss: 0.017\n",
      "Epoch 79: \n",
      "Train Loss: 0.015 - Test Loss: 0.017\n",
      "Epoch 80: \n",
      "Train Loss: 0.017 - Test Loss: 0.017\n",
      "Epoch 81: \n",
      "Train Loss: 0.017 - Test Loss: 0.017\n",
      "Epoch 82: \n",
      "Train Loss: 0.016 - Test Loss: 0.017\n",
      "Epoch 83: \n",
      "Train Loss: 0.016 - Test Loss: 0.017\n",
      "Epoch 84: \n",
      "Train Loss: 0.017 - Test Loss: 0.017\n",
      "Epoch 85: \n",
      "Train Loss: 0.016 - Test Loss: 0.017\n",
      "Epoch 86: \n",
      "Train Loss: 0.016 - Test Loss: 0.017\n",
      "Epoch 87: \n",
      "Train Loss: 0.016 - Test Loss: 0.017\n",
      "Epoch 88: \n",
      "Train Loss: 0.018 - Test Loss: 0.017\n",
      "Epoch 89: \n",
      "Train Loss: 0.017 - Test Loss: 0.017\n",
      "Epoch 90: \n",
      "Train Loss: 0.017 - Test Loss: 0.017\n",
      "Epoch 91: \n",
      "Train Loss: 0.016 - Test Loss: 0.017\n",
      "Epoch 92: \n",
      "Train Loss: 0.016 - Test Loss: 0.017\n",
      "Epoch 93: \n",
      "Train Loss: 0.017 - Test Loss: 0.017\n",
      "Epoch 94: \n",
      "Train Loss: 0.016 - Test Loss: 0.017\n",
      "Epoch 95: \n",
      "Train Loss: 0.017 - Test Loss: 0.017\n",
      "Epoch 96: \n",
      "Train Loss: 0.017 - Test Loss: 0.017\n",
      "Epoch 97: \n",
      "Train Loss: 0.016 - Test Loss: 0.017\n",
      "Epoch 98: \n",
      "Train Loss: 0.017 - Test Loss: 0.017\n",
      "Epoch 99: \n",
      "Train Loss: 0.016 - Test Loss: 0.017\n",
      "Epoch 100: \n",
      "Train Loss: 0.017 - Test Loss: 0.017\n"
     ]
    }
   ],
   "source": [
    "# Define the base Model object\n",
    "model = Model(inputs=[Xi], outputs=[x])\n",
    "# Compile the model setting the loss funciton: Mean Square Error\n",
    "model.compile(loss='mse')\n",
    "# Train the model getting the history data:\n",
    "epochs = 100\n",
    "history = model.train(X_train, y_train, X_test=X_test, y_test=y_test, epochs=epochs, batch_size=128, feed_dict={\n",
    "    W1i: W1,\n",
    "    b1i: b1,\n",
    "    W2i: W2,\n",
    "    b2i: b2\n",
    "}, learning_rate=0.05)"
   ]
  },
  {
   "cell_type": "code",
   "execution_count": 66,
   "metadata": {},
   "outputs": [
    {
     "data": {
      "image/png": "[encoded data removed]",
      "text/plain": [
       "<matplotlib.figure.Figure at 0x110b6b358>"
      ]
     },
     "metadata": {},
     "output_type": "display_data"
    }
   ],
   "source": [
    "#\n",
    "# Plot the training results\n",
    "#\n",
    "import matplotlib.pyplot as plt\n",
    "plt.figure()\n",
    "plt.title(\"Training vs Testing Performance\")\n",
    "plt.xlabel(\"Iteration\")\n",
    "plt.ylabel(\"Loss\")\n",
    "plt_train, = plt.plot(history['train_loss'], '--', color=\"gainsboro\", label='Training')\n",
    "plt_test, = plt.plot(history['test_loss'], color='cornflowerblue', label='Testing')\n",
    "plt.legend(handles=[plt_train, plt_test])\n",
    "plt.show()"
   ]
  },
  {
   "cell_type": "code",
   "execution_count": 67,
   "metadata": {},
   "outputs": [
    {
     "data": {
      "image/png": "[encoded data removed]",
      "text/plain": [
       "<matplotlib.figure.Figure at 0x110a522e8>"
      ]
     },
     "metadata": {},
     "output_type": "display_data"
    }
   ],
   "source": [
    "#\n",
    "# Plot the last values of the training results\n",
    "#\n",
    "import matplotlib.pyplot as plt\n",
    "plt.figure()\n",
    "plt.title(\"Training vs Testing Performance\")\n",
    "plt.xlabel(\"Iteration\")\n",
    "plt.ylabel(\"Loss\")\n",
    "cut_into = 30\n",
    "y_axis = list(range(cut_into, epochs))\n",
    "plt_train, = plt.plot(y_axis, history['train_loss'][cut_into:], '--', color=\"gainsboro\", label='Training')\n",
    "plt_test, = plt.plot(y_axis, history['test_loss'][cut_into:], color='cornflowerblue', label='Testing')\n",
    "plt.legend(handles=[plt_train, plt_test])\n",
    "plt.show()"
   ]
  }
 ],
 "metadata": {
  "kernelspec": {
   "display_name": "Python 3",
   "language": "python",
   "name": "python3"
  },
  "language_info": {
   "codemirror_mode": {
    "name": "ipython",
    "version": 3
   },
   "file_extension": ".py",
   "mimetype": "text/x-python",
   "name": "python",
   "nbconvert_exporter": "python",
   "pygments_lexer": "ipython3",
   "version": "3.6.1"
  }
 },
 "nbformat": 4,
 "nbformat_minor": 2
}
